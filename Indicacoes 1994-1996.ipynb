{
 "cells": [
  {
   "cell_type": "code",
   "execution_count": 21,
   "metadata": {},
   "outputs": [],
   "source": [
    "#!/usr/bin/env python\n",
    "# -*- coding: utf-8 -*-\n",
    "import os\n",
    "import numpy as np\n",
    "import pandas as pd\n",
    "import matplotlib.pyplot as plt\n",
    "import requests\n",
    "import secret\n",
    "import json\n",
    "\n",
    "baseurl= \"https://geocoder.api.here.com/6.2/geocode.json?\"\n",
    "basepath= \"./1994-1996/\"\n",
    "fileName = \"1994-1996\"\n",
    "baseutil = \"./Util/\"\n",
    "encoding='UTF-8'"
   ]
  },
  {
   "cell_type": "code",
   "execution_count": 24,
   "metadata": {
    "scrolled": true
   },
   "outputs": [
    {
     "name": "stderr",
     "output_type": "stream",
     "text": [
      "c:\\users\\renan\\documents\\lab\\indicacoes\\env\\lib\\site-packages\\pandas\\io\\parsers.py:678: UserWarning: Duplicate names specified. This will raise an error in the future.\n",
      "  return _read(filepath_or_buffer, kwds)\n"
     ]
    },
    {
     "ename": "UnicodeDecodeError",
     "evalue": "'charmap' codec can't decode byte 0x81 in position 453: character maps to <undefined>",
     "output_type": "error",
     "traceback": [
      "\u001b[1;31m---------------------------------------------------------------------------\u001b[0m",
      "\u001b[1;31mUnicodeDecodeError\u001b[0m                        Traceback (most recent call last)",
      "\u001b[1;32m<ipython-input-24-7429db70d6ce>\u001b[0m in \u001b[0;36m<module>\u001b[1;34m()\u001b[0m\n\u001b[0;32m      1\u001b[0m \u001b[0mfile\u001b[0m \u001b[1;33m=\u001b[0m \u001b[0mopen\u001b[0m\u001b[1;33m(\u001b[0m\u001b[0mbasepath\u001b[0m\u001b[1;33m+\u001b[0m\u001b[0mfileName\u001b[0m\u001b[1;33m+\u001b[0m\u001b[1;34m\".csv\"\u001b[0m\u001b[1;33m,\u001b[0m \u001b[1;34m\"r\"\u001b[0m\u001b[1;33m)\u001b[0m\u001b[1;33m\u001b[0m\u001b[0m\n\u001b[0;32m      2\u001b[0m \u001b[1;33m\u001b[0m\u001b[0m\n\u001b[1;32m----> 3\u001b[1;33m \u001b[0mbase\u001b[0m \u001b[1;33m=\u001b[0m \u001b[0mpd\u001b[0m\u001b[1;33m.\u001b[0m\u001b[0mread_csv\u001b[0m\u001b[1;33m(\u001b[0m\u001b[0mfile\u001b[0m\u001b[1;33m,\u001b[0m \u001b[0msep\u001b[0m\u001b[1;33m=\u001b[0m\u001b[1;34m\";\"\u001b[0m\u001b[1;33m,\u001b[0m \u001b[0mnames\u001b[0m\u001b[1;33m=\u001b[0m\u001b[1;33m[\u001b[0m\u001b[1;34m'Sigla da Matéria Legislativa'\u001b[0m\u001b[1;33m,\u001b[0m \u001b[1;34m'Ano da propositura'\u001b[0m\u001b[1;33m,\u001b[0m \u001b[1;34m'Número da propositura'\u001b[0m\u001b[1;33m,\u001b[0m \u001b[1;34m'Ano da propositura'\u001b[0m\u001b[1;33m,\u001b[0m \u001b[1;34m'Ementa (texto em linha única)'\u001b[0m\u001b[1;33m,\u001b[0m\u001b[1;34m'Ind. Destinatário'\u001b[0m\u001b[1;33m,\u001b[0m \u001b[1;34m'Ind. Motivo'\u001b[0m\u001b[1;33m,\u001b[0m \u001b[1;34m'Ind. Endereco'\u001b[0m \u001b[1;33m,\u001b[0m \u001b[1;34m'Ind. Adm.Regional'\u001b[0m\u001b[1;33m,\u001b[0m \u001b[1;34m'Ind. Bairro'\u001b[0m \u001b[1;33m,\u001b[0m \u001b[1;34m'Nome'\u001b[0m\u001b[1;33m,\u001b[0m \u001b[1;34m'Partido (último)'\u001b[0m\u001b[1;33m]\u001b[0m\u001b[1;33m,\u001b[0m \u001b[0mencoding\u001b[0m\u001b[1;33m=\u001b[0m\u001b[0mencoding\u001b[0m\u001b[1;33m)\u001b[0m\u001b[1;33m\u001b[0m\u001b[0m\n\u001b[0m",
      "\u001b[1;32mc:\\users\\renan\\documents\\lab\\indicacoes\\env\\lib\\site-packages\\pandas\\io\\parsers.py\u001b[0m in \u001b[0;36mparser_f\u001b[1;34m(filepath_or_buffer, sep, delimiter, header, names, index_col, usecols, squeeze, prefix, mangle_dupe_cols, dtype, engine, converters, true_values, false_values, skipinitialspace, skiprows, nrows, na_values, keep_default_na, na_filter, verbose, skip_blank_lines, parse_dates, infer_datetime_format, keep_date_col, date_parser, dayfirst, iterator, chunksize, compression, thousands, decimal, lineterminator, quotechar, quoting, escapechar, comment, encoding, dialect, tupleize_cols, error_bad_lines, warn_bad_lines, skipfooter, doublequote, delim_whitespace, low_memory, memory_map, float_precision)\u001b[0m\n\u001b[0;32m    676\u001b[0m                     skip_blank_lines=skip_blank_lines)\n\u001b[0;32m    677\u001b[0m \u001b[1;33m\u001b[0m\u001b[0m\n\u001b[1;32m--> 678\u001b[1;33m         \u001b[1;32mreturn\u001b[0m \u001b[0m_read\u001b[0m\u001b[1;33m(\u001b[0m\u001b[0mfilepath_or_buffer\u001b[0m\u001b[1;33m,\u001b[0m \u001b[0mkwds\u001b[0m\u001b[1;33m)\u001b[0m\u001b[1;33m\u001b[0m\u001b[0m\n\u001b[0m\u001b[0;32m    679\u001b[0m \u001b[1;33m\u001b[0m\u001b[0m\n\u001b[0;32m    680\u001b[0m     \u001b[0mparser_f\u001b[0m\u001b[1;33m.\u001b[0m\u001b[0m__name__\u001b[0m \u001b[1;33m=\u001b[0m \u001b[0mname\u001b[0m\u001b[1;33m\u001b[0m\u001b[0m\n",
      "\u001b[1;32mc:\\users\\renan\\documents\\lab\\indicacoes\\env\\lib\\site-packages\\pandas\\io\\parsers.py\u001b[0m in \u001b[0;36m_read\u001b[1;34m(filepath_or_buffer, kwds)\u001b[0m\n\u001b[0;32m    438\u001b[0m \u001b[1;33m\u001b[0m\u001b[0m\n\u001b[0;32m    439\u001b[0m     \u001b[1;31m# Create the parser.\u001b[0m\u001b[1;33m\u001b[0m\u001b[1;33m\u001b[0m\u001b[0m\n\u001b[1;32m--> 440\u001b[1;33m     \u001b[0mparser\u001b[0m \u001b[1;33m=\u001b[0m \u001b[0mTextFileReader\u001b[0m\u001b[1;33m(\u001b[0m\u001b[0mfilepath_or_buffer\u001b[0m\u001b[1;33m,\u001b[0m \u001b[1;33m**\u001b[0m\u001b[0mkwds\u001b[0m\u001b[1;33m)\u001b[0m\u001b[1;33m\u001b[0m\u001b[0m\n\u001b[0m\u001b[0;32m    441\u001b[0m \u001b[1;33m\u001b[0m\u001b[0m\n\u001b[0;32m    442\u001b[0m     \u001b[1;32mif\u001b[0m \u001b[0mchunksize\u001b[0m \u001b[1;32mor\u001b[0m \u001b[0miterator\u001b[0m\u001b[1;33m:\u001b[0m\u001b[1;33m\u001b[0m\u001b[0m\n",
      "\u001b[1;32mc:\\users\\renan\\documents\\lab\\indicacoes\\env\\lib\\site-packages\\pandas\\io\\parsers.py\u001b[0m in \u001b[0;36m__init__\u001b[1;34m(self, f, engine, **kwds)\u001b[0m\n\u001b[0;32m    785\u001b[0m             \u001b[0mself\u001b[0m\u001b[1;33m.\u001b[0m\u001b[0moptions\u001b[0m\u001b[1;33m[\u001b[0m\u001b[1;34m'has_index_names'\u001b[0m\u001b[1;33m]\u001b[0m \u001b[1;33m=\u001b[0m \u001b[0mkwds\u001b[0m\u001b[1;33m[\u001b[0m\u001b[1;34m'has_index_names'\u001b[0m\u001b[1;33m]\u001b[0m\u001b[1;33m\u001b[0m\u001b[0m\n\u001b[0;32m    786\u001b[0m \u001b[1;33m\u001b[0m\u001b[0m\n\u001b[1;32m--> 787\u001b[1;33m         \u001b[0mself\u001b[0m\u001b[1;33m.\u001b[0m\u001b[0m_make_engine\u001b[0m\u001b[1;33m(\u001b[0m\u001b[0mself\u001b[0m\u001b[1;33m.\u001b[0m\u001b[0mengine\u001b[0m\u001b[1;33m)\u001b[0m\u001b[1;33m\u001b[0m\u001b[0m\n\u001b[0m\u001b[0;32m    788\u001b[0m \u001b[1;33m\u001b[0m\u001b[0m\n\u001b[0;32m    789\u001b[0m     \u001b[1;32mdef\u001b[0m \u001b[0mclose\u001b[0m\u001b[1;33m(\u001b[0m\u001b[0mself\u001b[0m\u001b[1;33m)\u001b[0m\u001b[1;33m:\u001b[0m\u001b[1;33m\u001b[0m\u001b[0m\n",
      "\u001b[1;32mc:\\users\\renan\\documents\\lab\\indicacoes\\env\\lib\\site-packages\\pandas\\io\\parsers.py\u001b[0m in \u001b[0;36m_make_engine\u001b[1;34m(self, engine)\u001b[0m\n\u001b[0;32m   1012\u001b[0m     \u001b[1;32mdef\u001b[0m \u001b[0m_make_engine\u001b[0m\u001b[1;33m(\u001b[0m\u001b[0mself\u001b[0m\u001b[1;33m,\u001b[0m \u001b[0mengine\u001b[0m\u001b[1;33m=\u001b[0m\u001b[1;34m'c'\u001b[0m\u001b[1;33m)\u001b[0m\u001b[1;33m:\u001b[0m\u001b[1;33m\u001b[0m\u001b[0m\n\u001b[0;32m   1013\u001b[0m         \u001b[1;32mif\u001b[0m \u001b[0mengine\u001b[0m \u001b[1;33m==\u001b[0m \u001b[1;34m'c'\u001b[0m\u001b[1;33m:\u001b[0m\u001b[1;33m\u001b[0m\u001b[0m\n\u001b[1;32m-> 1014\u001b[1;33m             \u001b[0mself\u001b[0m\u001b[1;33m.\u001b[0m\u001b[0m_engine\u001b[0m \u001b[1;33m=\u001b[0m \u001b[0mCParserWrapper\u001b[0m\u001b[1;33m(\u001b[0m\u001b[0mself\u001b[0m\u001b[1;33m.\u001b[0m\u001b[0mf\u001b[0m\u001b[1;33m,\u001b[0m \u001b[1;33m**\u001b[0m\u001b[0mself\u001b[0m\u001b[1;33m.\u001b[0m\u001b[0moptions\u001b[0m\u001b[1;33m)\u001b[0m\u001b[1;33m\u001b[0m\u001b[0m\n\u001b[0m\u001b[0;32m   1015\u001b[0m         \u001b[1;32melse\u001b[0m\u001b[1;33m:\u001b[0m\u001b[1;33m\u001b[0m\u001b[0m\n\u001b[0;32m   1016\u001b[0m             \u001b[1;32mif\u001b[0m \u001b[0mengine\u001b[0m \u001b[1;33m==\u001b[0m \u001b[1;34m'python'\u001b[0m\u001b[1;33m:\u001b[0m\u001b[1;33m\u001b[0m\u001b[0m\n",
      "\u001b[1;32mc:\\users\\renan\\documents\\lab\\indicacoes\\env\\lib\\site-packages\\pandas\\io\\parsers.py\u001b[0m in \u001b[0;36m__init__\u001b[1;34m(self, src, **kwds)\u001b[0m\n\u001b[0;32m   1706\u001b[0m         \u001b[0mkwds\u001b[0m\u001b[1;33m[\u001b[0m\u001b[1;34m'usecols'\u001b[0m\u001b[1;33m]\u001b[0m \u001b[1;33m=\u001b[0m \u001b[0mself\u001b[0m\u001b[1;33m.\u001b[0m\u001b[0musecols\u001b[0m\u001b[1;33m\u001b[0m\u001b[0m\n\u001b[0;32m   1707\u001b[0m \u001b[1;33m\u001b[0m\u001b[0m\n\u001b[1;32m-> 1708\u001b[1;33m         \u001b[0mself\u001b[0m\u001b[1;33m.\u001b[0m\u001b[0m_reader\u001b[0m \u001b[1;33m=\u001b[0m \u001b[0mparsers\u001b[0m\u001b[1;33m.\u001b[0m\u001b[0mTextReader\u001b[0m\u001b[1;33m(\u001b[0m\u001b[0msrc\u001b[0m\u001b[1;33m,\u001b[0m \u001b[1;33m**\u001b[0m\u001b[0mkwds\u001b[0m\u001b[1;33m)\u001b[0m\u001b[1;33m\u001b[0m\u001b[0m\n\u001b[0m\u001b[0;32m   1709\u001b[0m \u001b[1;33m\u001b[0m\u001b[0m\n\u001b[0;32m   1710\u001b[0m         \u001b[0mpassed_names\u001b[0m \u001b[1;33m=\u001b[0m \u001b[0mself\u001b[0m\u001b[1;33m.\u001b[0m\u001b[0mnames\u001b[0m \u001b[1;32mis\u001b[0m \u001b[1;32mNone\u001b[0m\u001b[1;33m\u001b[0m\u001b[0m\n",
      "\u001b[1;32mpandas\\_libs\\parsers.pyx\u001b[0m in \u001b[0;36mpandas._libs.parsers.TextReader.__cinit__\u001b[1;34m()\u001b[0m\n",
      "\u001b[1;32mpandas\\_libs\\parsers.pyx\u001b[0m in \u001b[0;36mpandas._libs.parsers.TextReader._get_header\u001b[1;34m()\u001b[0m\n",
      "\u001b[1;32mpandas\\_libs\\parsers.pyx\u001b[0m in \u001b[0;36mpandas._libs.parsers.TextReader._tokenize_rows\u001b[1;34m()\u001b[0m\n",
      "\u001b[1;32mpandas\\_libs\\parsers.pyx\u001b[0m in \u001b[0;36mpandas._libs.parsers.raise_parser_error\u001b[1;34m()\u001b[0m\n",
      "\u001b[1;31mUnicodeDecodeError\u001b[0m: 'charmap' codec can't decode byte 0x81 in position 453: character maps to <undefined>"
     ]
    }
   ],
   "source": [
    "file = open(basepath+fileName+\".csv\", \"r\")\n",
    "\n",
    "base = pd.read_csv(file, sep=\";\", names=['Sigla da Matéria Legislativa', 'Ano da propositura', 'Número da propositura', 'Ano da propositura', 'Ementa (texto em linha única)','Ind. Destinatário', 'Ind. Motivo', 'Ind. Endereco' , 'Ind. Adm.Regional', 'Ind. Bairro' , 'Nome', 'Partido (último)'], encoding=encoding)"
   ]
  },
  {
   "cell_type": "code",
   "execution_count": null,
   "metadata": {},
   "outputs": [],
   "source": [
    "#baseNotNan = base[base[\"Ind. Endereco\"].notnull()]\n",
    "#baseNotNan.to_csv(basepath+\"91-93withNotNan.csv\", sep=';', encoding='utf-8')\n"
   ]
  },
  {
   "cell_type": "code",
   "execution_count": null,
   "metadata": {},
   "outputs": [],
   "source": [
    "#baseWithNan = base[base[\"Ind. Endereco\"].isnull()]\n",
    "#baseWithNan.to_csv(basepath+\"91-93withNan.csv\", sep=';', encoding='utf-8')"
   ]
  },
  {
   "cell_type": "code",
   "execution_count": null,
   "metadata": {},
   "outputs": [],
   "source": [
    "#baseWithNanAndNei = baseWithNan[baseWithNan[\"Ind. Bairro\"].notnull()]\n",
    "#baseWithNanAndNei.to_csv(basepath+\"91-93withNanNei.csv\", sep=';', encoding='utf-8')"
   ]
  },
  {
   "cell_type": "code",
   "execution_count": null,
   "metadata": {},
   "outputs": [],
   "source": [
    "#baseWithTotalNan = baseWithNan[baseWithNan[\"Ind. Bairro\"].isnull()]\n",
    "#baseWithTotalNan.to_csv(basepath+\"91-93withTotalNan.csv\", sep=';', encoding='utf-8')"
   ]
  },
  {
   "cell_type": "code",
   "execution_count": null,
   "metadata": {},
   "outputs": [],
   "source": [
    "#TotalCount = len(base.index)\n",
    "#WithAddress = len(baseNotNan.index)\n",
    "#WithNoAddress = len(baseWithNan.index)\n",
    "#WithNoAddressNeighbors = len(baseWithNanAndNei.index)\n",
    "#WithNOAddressNoNeighbors = len(baseWithTotalNan.index)\n",
    "\n",
    "#print (\"Total: %s \\n Quantidade com Endereco: %s \\n Quantidade sem Endereco: %s \\n Quantidade sem endereco com Bairro: %s \\n Quantidade sem endereco e sem bairro: %s\" % (TotalCount,WithAddress, WithNoAddress, WithNoAddressNeighbors, WithNOAddressNoNeighbors))\n",
    "#print (\"\\nTotal em Porcentagem: %s \\n Total com Endereco: %s \\n Quantidade sem Endereco: %s \\n Quantidade sem endereco com Bairro: %s \\n Quantidade sem endereco e sem bairro: %s\" % (TotalCount, (WithAddress/TotalCount)*100, (WithNoAddress/TotalCount)*100, (WithNoAddressNeighbors/TotalCount)*100, (WithNOAddressNoNeighbors/TotalCount)*100))\n"
   ]
  },
  {
   "cell_type": "code",
   "execution_count": null,
   "metadata": {},
   "outputs": [],
   "source": [
    "\n",
    "bairrosFile = open(baseutil+\"Bairros.csv\", \"r\")\n",
    "bairros = pd.read_csv(bairrosFile, sep=\",\", names=['Bairros'], encoding=encoding)\n",
    "\n",
    "abrvFile = open(baseutil+\"Abrev.csv\", \"r\")\n",
    "abrev = pd.read_csv(abrvFile, sep=\";\", names=['Abreviacoes', 'Referencia'], encoding=encoding)\n",
    "\n",
    "enderecoLoc = [\"Ind. Endereco\", \"Ind. Bairro\"]\n",
    "address = base.loc[:, enderecoLoc]\n"
   ]
  },
  {
   "cell_type": "code",
   "execution_count": null,
   "metadata": {},
   "outputs": [],
   "source": [
    "#abrvs = dict()\n",
    "\n",
    "#for index, row in address.iterrows():\n",
    "#    if type(row[0]) is str:\n",
    "#        abrv = row[0].split(\",\")\n",
    "        \n",
    "#        for ab in abrv[2:]:\n",
    "#            if ab in abrvs.keys():\n",
    "#                abrvs[ab] += 1\n",
    "#                continue\n",
    "#            abrvs[ab] = 1\n",
    "\n",
    "#abrvs = sorted(abrvs.items(), key=lambda value: value[1], reverse=True)\n",
    "#ad = pd.Series(pd.toDataFrmae(abrvs)).to_frame()\n",
    "#ad = pd.DataFrame(abrvs)\n",
    "#ad.to_csv(basepath+\"Abreviacoes.csv\", sep=';', encoding='utf-8')\n",
    "#print (\"Done!\")\n",
    "    "
   ]
  },
  {
   "cell_type": "code",
   "execution_count": null,
   "metadata": {},
   "outputs": [],
   "source": [
    "\n",
    "\n",
    "def isAbrev(name):\n",
    "    try:\n",
    "        for index, row in abrev.iterrows():\n",
    "            if type(row[0]) is str:\n",
    "                if name.lower().strip() == row[0].lower().strip():\n",
    "                    return row[1] + \" \"\n",
    "    except:\n",
    "        pass\n",
    "    return None\n",
    "\n",
    "def isNeighbor(name):\n",
    "    try:\n",
    "        for index, row in bairros.iterrows():\n",
    "            if type(row[0]) is str:\n",
    "                if name.lower().strip() == row[0].lower().strip():\n",
    "                    return row[1]\n",
    "    except:\n",
    "        pass\n",
    "    return None\n",
    "i = 0\n",
    "\n",
    "localization = { 'Latitude': list(), \"Longitude\": list()}\n",
    "for index, row in address.iterrows():\n",
    "    latitude, longitude = \"\", \"\"\n",
    "    if i == 10:\n",
    "        break\n",
    "    if type(row[0]) is str:\n",
    "        adressByPart = row[0].split(\",\")\n",
    "        street = \"\"\n",
    "        neigh = \"\"\n",
    "        abr = \"\"\n",
    "        second = \"\"\n",
    "        for parts in adressByPart:        \n",
    "            if isAbrev(parts) is not None:\n",
    "                abr = isAbrev(parts) + abr \n",
    "            elif isNeighbor(parts) is not None:\n",
    "                neigh = isNeighbor(parts)\n",
    "            else:\n",
    "                street = street + parts\n",
    "        if len(row) > 1:\n",
    "            if str(row[1]) != \"nan\":\n",
    "                neigh = row[1]\n",
    "        adr = abr + street + neigh\n",
    "        \n",
    "        latitude, longitude = getDirections(adr)\n",
    "        \n",
    "    i+=1\n",
    "    print(i)\n",
    "    localization['Latitude'].append(latitude)\n",
    "    localization['Longitude'].append(longitude)\n",
    "        \n",
    "\n",
    "lladr = pd.DataFrame(localization)\n",
    "result = pd.concat([base, lladr], axis = 1)\n",
    "result.to_csv(basepath+fileName+\"-Localizado.csv\", sep=';', encoding=encoding)\n",
    "print(\"Done!\")\n"
   ]
  },
  {
   "cell_type": "code",
   "execution_count": null,
   "metadata": {},
   "outputs": [],
   "source": [
    "def getDirections(adr):\n",
    "    adr = adr+\"+Sao+Paulo+SP\"\n",
    "    adr = adr.replace(' ','+')\n",
    "    request = baseurl+\"app_id=\"+secret.app_id+\"&app_code=\"+secret.app_code+\"&searchtext=\"+adr\n",
    "    response = (requests.get(request)).json()\n",
    "    latitude = \"\"\n",
    "    longitude = \"\"\n",
    "\n",
    "    if len(response[\"Response\"][\"View\"]) > 0:\n",
    "        latitude  =  response[\"Response\"][\"View\"][0][\"Result\"][0][\"Location\"][\"NavigationPosition\"][0][\"Latitude\"]\n",
    "        longitude = response[\"Response\"][\"View\"][0][\"Result\"][0][\"Location\"][\"NavigationPosition\"][0][\"Longitude\"]\n",
    "    return str(latitude), str(longitude)\n"
   ]
  },
  {
   "cell_type": "code",
   "execution_count": null,
   "metadata": {},
   "outputs": [],
   "source": []
  },
  {
   "cell_type": "code",
   "execution_count": 4,
   "metadata": {},
   "outputs": [],
   "source": [
    "file.close()"
   ]
  }
 ],
 "metadata": {
  "kernelspec": {
   "display_name": "Python 3",
   "language": "python",
   "name": "python3"
  },
  "language_info": {
   "codemirror_mode": {
    "name": "ipython",
    "version": 3
   },
   "file_extension": ".py",
   "mimetype": "text/x-python",
   "name": "python",
   "nbconvert_exporter": "python",
   "pygments_lexer": "ipython3",
   "version": "3.7.0"
  }
 },
 "nbformat": 4,
 "nbformat_minor": 2
}
