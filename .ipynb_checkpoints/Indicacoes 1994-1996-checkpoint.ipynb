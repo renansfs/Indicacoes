{
 "cells": [
  {
   "cell_type": "code",
   "execution_count": 21,
   "metadata": {},
   "outputs": [],
   "source": [
    "#!/usr/bin/env python\n",
    "# -*- coding: utf-8 -*-\n",
    "import os\n",
    "import numpy as np\n",
    "import pandas as pd\n",
    "import matplotlib.pyplot as plt\n",
    "import requests\n",
    "import secret\n",
    "import json\n",
    "\n",
    "baseurl= \"https://geocoder.api.here.com/6.2/geocode.json?\"\n",
    "basepath= \"./1994-1996/\"\n",
    "fileName = \"1994-1996\"\n",
    "baseutil = \"./Util/\"\n",
    "encoding='UTF-8'"
   ]
  },
  {
   "cell_type": "code",
   "execution_count": 23,
   "metadata": {
    "scrolled": true
   },
   "outputs": [
    {
     "ename": "LookupError",
     "evalue": "unknown encoding: unicode",
     "output_type": "error",
     "traceback": [
      "\u001b[1;31m---------------------------------------------------------------------------\u001b[0m",
      "\u001b[1;31mLookupError\u001b[0m                               Traceback (most recent call last)",
      "\u001b[1;32m<ipython-input-23-cf8ddcc79681>\u001b[0m in \u001b[0;36m<module>\u001b[1;34m()\u001b[0m\n\u001b[1;32m----> 1\u001b[1;33m \u001b[0mfile\u001b[0m \u001b[1;33m=\u001b[0m \u001b[0mopen\u001b[0m\u001b[1;33m(\u001b[0m\u001b[0mbasepath\u001b[0m\u001b[1;33m+\u001b[0m\u001b[0mfileName\u001b[0m\u001b[1;33m+\u001b[0m\u001b[1;34m\".csv\"\u001b[0m\u001b[1;33m,\u001b[0m \u001b[1;34m\"r\"\u001b[0m\u001b[1;33m,\u001b[0m\u001b[0mencoding\u001b[0m\u001b[1;33m=\u001b[0m\u001b[0mencoding\u001b[0m\u001b[1;33m)\u001b[0m\u001b[1;33m\u001b[0m\u001b[0m\n\u001b[0m\u001b[0;32m      2\u001b[0m \u001b[1;33m\u001b[0m\u001b[0m\n\u001b[0;32m      3\u001b[0m \u001b[0mbase\u001b[0m \u001b[1;33m=\u001b[0m \u001b[0mpd\u001b[0m\u001b[1;33m.\u001b[0m\u001b[0mread_csv\u001b[0m\u001b[1;33m(\u001b[0m\u001b[0mfile\u001b[0m\u001b[1;33m,\u001b[0m \u001b[0msep\u001b[0m\u001b[1;33m=\u001b[0m\u001b[1;34m\";\"\u001b[0m\u001b[1;33m,\u001b[0m \u001b[0mnames\u001b[0m\u001b[1;33m=\u001b[0m\u001b[1;33m[\u001b[0m\u001b[1;34m'Sigla da Matéria Legislativa'\u001b[0m\u001b[1;33m,\u001b[0m \u001b[1;34m'Ano da propositura'\u001b[0m\u001b[1;33m,\u001b[0m \u001b[1;34m'Número da propositura'\u001b[0m\u001b[1;33m,\u001b[0m \u001b[1;34m'Ano da propositura'\u001b[0m\u001b[1;33m,\u001b[0m \u001b[1;34m'Ementa (texto em linha única)'\u001b[0m\u001b[1;33m,\u001b[0m\u001b[1;34m'Ind. Destinatário'\u001b[0m\u001b[1;33m,\u001b[0m \u001b[1;34m'Ind. Motivo'\u001b[0m\u001b[1;33m,\u001b[0m \u001b[1;34m'Ind. Endereco'\u001b[0m \u001b[1;33m,\u001b[0m \u001b[1;34m'Ind. Adm.Regional'\u001b[0m\u001b[1;33m,\u001b[0m \u001b[1;34m'Ind. Bairro'\u001b[0m \u001b[1;33m,\u001b[0m \u001b[1;34m'Nome'\u001b[0m\u001b[1;33m,\u001b[0m \u001b[1;34m'Partido (último)'\u001b[0m\u001b[1;33m]\u001b[0m\u001b[1;33m,\u001b[0m \u001b[0mencoding\u001b[0m\u001b[1;33m=\u001b[0m\u001b[0mencoding\u001b[0m\u001b[1;33m)\u001b[0m\u001b[1;33m\u001b[0m\u001b[0m\n",
      "\u001b[1;31mLookupError\u001b[0m: unknown encoding: unicode"
     ]
    }
   ],
   "source": [
    "file = open(basepath+fileName+\".csv\", \"r\")\n",
    "\n",
    "base = pd.read_csv(file, sep=\";\", names=['Sigla da Matéria Legislativa', 'Ano da propositura', 'Número da propositura', 'Ano da propositura', 'Ementa (texto em linha única)','Ind. Destinatário', 'Ind. Motivo', 'Ind. Endereco' , 'Ind. Adm.Regional', 'Ind. Bairro' , 'Nome', 'Partido (último)'], encoding=encoding)"
   ]
  },
  {
   "cell_type": "code",
   "execution_count": null,
   "metadata": {},
   "outputs": [],
   "source": [
    "#baseNotNan = base[base[\"Ind. Endereco\"].notnull()]\n",
    "#baseNotNan.to_csv(basepath+\"91-93withNotNan.csv\", sep=';', encoding='utf-8')\n"
   ]
  },
  {
   "cell_type": "code",
   "execution_count": null,
   "metadata": {},
   "outputs": [],
   "source": [
    "#baseWithNan = base[base[\"Ind. Endereco\"].isnull()]\n",
    "#baseWithNan.to_csv(basepath+\"91-93withNan.csv\", sep=';', encoding='utf-8')"
   ]
  },
  {
   "cell_type": "code",
   "execution_count": null,
   "metadata": {},
   "outputs": [],
   "source": [
    "#baseWithNanAndNei = baseWithNan[baseWithNan[\"Ind. Bairro\"].notnull()]\n",
    "#baseWithNanAndNei.to_csv(basepath+\"91-93withNanNei.csv\", sep=';', encoding='utf-8')"
   ]
  },
  {
   "cell_type": "code",
   "execution_count": null,
   "metadata": {},
   "outputs": [],
   "source": [
    "#baseWithTotalNan = baseWithNan[baseWithNan[\"Ind. Bairro\"].isnull()]\n",
    "#baseWithTotalNan.to_csv(basepath+\"91-93withTotalNan.csv\", sep=';', encoding='utf-8')"
   ]
  },
  {
   "cell_type": "code",
   "execution_count": null,
   "metadata": {},
   "outputs": [],
   "source": [
    "#TotalCount = len(base.index)\n",
    "#WithAddress = len(baseNotNan.index)\n",
    "#WithNoAddress = len(baseWithNan.index)\n",
    "#WithNoAddressNeighbors = len(baseWithNanAndNei.index)\n",
    "#WithNOAddressNoNeighbors = len(baseWithTotalNan.index)\n",
    "\n",
    "#print (\"Total: %s \\n Quantidade com Endereco: %s \\n Quantidade sem Endereco: %s \\n Quantidade sem endereco com Bairro: %s \\n Quantidade sem endereco e sem bairro: %s\" % (TotalCount,WithAddress, WithNoAddress, WithNoAddressNeighbors, WithNOAddressNoNeighbors))\n",
    "#print (\"\\nTotal em Porcentagem: %s \\n Total com Endereco: %s \\n Quantidade sem Endereco: %s \\n Quantidade sem endereco com Bairro: %s \\n Quantidade sem endereco e sem bairro: %s\" % (TotalCount, (WithAddress/TotalCount)*100, (WithNoAddress/TotalCount)*100, (WithNoAddressNeighbors/TotalCount)*100, (WithNOAddressNoNeighbors/TotalCount)*100))\n"
   ]
  },
  {
   "cell_type": "code",
   "execution_count": null,
   "metadata": {},
   "outputs": [],
   "source": [
    "\n",
    "bairrosFile = open(baseutil+\"Bairros.csv\", \"r\")\n",
    "bairros = pd.read_csv(bairrosFile, sep=\",\", names=['Bairros'], encoding=encoding)\n",
    "\n",
    "abrvFile = open(baseutil+\"Abrev.csv\", \"r\")\n",
    "abrev = pd.read_csv(abrvFile, sep=\";\", names=['Abreviacoes', 'Referencia'], encoding=encoding)\n",
    "\n",
    "enderecoLoc = [\"Ind. Endereco\", \"Ind. Bairro\"]\n",
    "address = base.loc[:, enderecoLoc]\n"
   ]
  },
  {
   "cell_type": "code",
   "execution_count": null,
   "metadata": {},
   "outputs": [],
   "source": [
    "#abrvs = dict()\n",
    "\n",
    "#for index, row in address.iterrows():\n",
    "#    if type(row[0]) is str:\n",
    "#        abrv = row[0].split(\",\")\n",
    "        \n",
    "#        for ab in abrv[2:]:\n",
    "#            if ab in abrvs.keys():\n",
    "#                abrvs[ab] += 1\n",
    "#                continue\n",
    "#            abrvs[ab] = 1\n",
    "\n",
    "#abrvs = sorted(abrvs.items(), key=lambda value: value[1], reverse=True)\n",
    "#ad = pd.Series(pd.toDataFrmae(abrvs)).to_frame()\n",
    "#ad = pd.DataFrame(abrvs)\n",
    "#ad.to_csv(basepath+\"Abreviacoes.csv\", sep=';', encoding='utf-8')\n",
    "#print (\"Done!\")\n",
    "    "
   ]
  },
  {
   "cell_type": "code",
   "execution_count": null,
   "metadata": {},
   "outputs": [],
   "source": [
    "\n",
    "\n",
    "def isAbrev(name):\n",
    "    try:\n",
    "        for index, row in abrev.iterrows():\n",
    "            if type(row[0]) is str:\n",
    "                if name.lower().strip() == row[0].lower().strip():\n",
    "                    return row[1] + \" \"\n",
    "    except:\n",
    "        pass\n",
    "    return None\n",
    "\n",
    "def isNeighbor(name):\n",
    "    try:\n",
    "        for index, row in bairros.iterrows():\n",
    "            if type(row[0]) is str:\n",
    "                if name.lower().strip() == row[0].lower().strip():\n",
    "                    return row[1]\n",
    "    except:\n",
    "        pass\n",
    "    return None\n",
    "i = 0\n",
    "\n",
    "localization = { 'Latitude': list(), \"Longitude\": list()}\n",
    "for index, row in address.iterrows():\n",
    "    latitude, longitude = \"\", \"\"\n",
    "    if i == 10:\n",
    "        break\n",
    "    if type(row[0]) is str:\n",
    "        adressByPart = row[0].split(\",\")\n",
    "        street = \"\"\n",
    "        neigh = \"\"\n",
    "        abr = \"\"\n",
    "        second = \"\"\n",
    "        for parts in adressByPart:        \n",
    "            if isAbrev(parts) is not None:\n",
    "                abr = isAbrev(parts) + abr \n",
    "            elif isNeighbor(parts) is not None:\n",
    "                neigh = isNeighbor(parts)\n",
    "            else:\n",
    "                street = street + parts\n",
    "        if len(row) > 1:\n",
    "            if str(row[1]) != \"nan\":\n",
    "                neigh = row[1]\n",
    "        adr = abr + street + neigh\n",
    "        \n",
    "        latitude, longitude = getDirections(adr)\n",
    "        \n",
    "    i+=1\n",
    "    print(i)\n",
    "    localization['Latitude'].append(latitude)\n",
    "    localization['Longitude'].append(longitude)\n",
    "        \n",
    "\n",
    "lladr = pd.DataFrame(localization)\n",
    "result = pd.concat([base, lladr], axis = 1)\n",
    "result.to_csv(basepath+fileName+\"-Localizado.csv\", sep=';', encoding=encoding)\n",
    "print(\"Done!\")\n"
   ]
  },
  {
   "cell_type": "code",
   "execution_count": null,
   "metadata": {},
   "outputs": [],
   "source": [
    "def getDirections(adr):\n",
    "    adr = adr+\"+Sao+Paulo+SP\"\n",
    "    adr = adr.replace(' ','+')\n",
    "    request = baseurl+\"app_id=\"+secret.app_id+\"&app_code=\"+secret.app_code+\"&searchtext=\"+adr\n",
    "    response = (requests.get(request)).json()\n",
    "    latitude = \"\"\n",
    "    longitude = \"\"\n",
    "\n",
    "    if len(response[\"Response\"][\"View\"]) > 0:\n",
    "        latitude  =  response[\"Response\"][\"View\"][0][\"Result\"][0][\"Location\"][\"NavigationPosition\"][0][\"Latitude\"]\n",
    "        longitude = response[\"Response\"][\"View\"][0][\"Result\"][0][\"Location\"][\"NavigationPosition\"][0][\"Longitude\"]\n",
    "    return str(latitude), str(longitude)\n"
   ]
  },
  {
   "cell_type": "code",
   "execution_count": null,
   "metadata": {},
   "outputs": [],
   "source": []
  },
  {
   "cell_type": "code",
   "execution_count": 4,
   "metadata": {},
   "outputs": [],
   "source": [
    "file.close()"
   ]
  }
 ],
 "metadata": {
  "kernelspec": {
   "display_name": "Python 3",
   "language": "python",
   "name": "python3"
  },
  "language_info": {
   "codemirror_mode": {
    "name": "ipython",
    "version": 3
   },
   "file_extension": ".py",
   "mimetype": "text/x-python",
   "name": "python",
   "nbconvert_exporter": "python",
   "pygments_lexer": "ipython3",
   "version": "3.7.0"
  }
 },
 "nbformat": 4,
 "nbformat_minor": 2
}
