{
 "cells": [
  {
   "cell_type": "code",
   "execution_count": 1,
   "metadata": {},
   "outputs": [],
   "source": [
    "#!/usr/bin/env python\n",
    "# -*- coding: utf-8 -*-\n",
    "import os\n",
    "import numpy as np\n",
    "import pandas as pd\n",
    "import matplotlib.pyplot as plt\n",
    "import requests\n",
    "import secret\n",
    "import json\n",
    "\n",
    "baseurl= \"https://geocoder.api.here.com/6.2/geocode.json?\"\n",
    "basepath= \"./1991-1993/\"\n",
    "baseutil = \"./Util/\""
   ]
  },
  {
   "cell_type": "code",
   "execution_count": 2,
   "metadata": {
    "scrolled": true
   },
   "outputs": [
    {
     "name": "stderr",
     "output_type": "stream",
     "text": [
      "c:\\users\\renan\\documents\\lab\\indicacoes\\env\\lib\\site-packages\\pandas\\io\\parsers.py:678: UserWarning: Duplicate names specified. This will raise an error in the future.\n",
      "  return _read(filepath_or_buffer, kwds)\n"
     ]
    }
   ],
   "source": [
    "file = open(basepath+\"1991-1993.csv\", \"r\")\n",
    "\n",
    "base = pd.read_csv(file, sep=\";\", names=['Sigla da Matéria Legislativa', 'Ano da propositura', 'Número da propositura', 'Ano da propositura', 'Ementa (texto em linha única)','Ind. Destinatário', 'Ind. Motivo', 'Ind. Endereco' , 'Ind. Adm.Regional', 'Ind. Bairro' , 'Nome', 'Partido (último)'], encoding='utf-8')"
   ]
  },
  {
   "cell_type": "code",
   "execution_count": 3,
   "metadata": {},
   "outputs": [],
   "source": [
    "baseNotNan = base[base[\"Ind. Endereco\"].notnull()]\n",
    "baseNotNan.to_csv(basepath+\"91-93withNotNan.csv\", sep=';', encoding='utf-8')\n"
   ]
  },
  {
   "cell_type": "code",
   "execution_count": 4,
   "metadata": {},
   "outputs": [],
   "source": [
    "baseWithNan = base[base[\"Ind. Endereco\"].isnull()]\n",
    "baseWithNan.to_csv(basepath+\"91-93withNan.csv\", sep=';', encoding='utf-8')"
   ]
  },
  {
   "cell_type": "code",
   "execution_count": 5,
   "metadata": {},
   "outputs": [],
   "source": [
    "baseWithNanAndNei = baseWithNan[baseWithNan[\"Ind. Bairro\"].notnull()]\n",
    "baseWithNanAndNei.to_csv(basepath+\"91-93withNanNei.csv\", sep=';', encoding='utf-8')"
   ]
  },
  {
   "cell_type": "code",
   "execution_count": 6,
   "metadata": {},
   "outputs": [],
   "source": [
    "baseWithTotalNan = baseWithNan[baseWithNan[\"Ind. Bairro\"].isnull()]\n",
    "baseWithTotalNan.to_csv(basepath+\"91-93withTotalNan.csv\", sep=';', encoding='utf-8')"
   ]
  },
  {
   "cell_type": "code",
   "execution_count": 7,
   "metadata": {},
   "outputs": [],
   "source": [
    "TotalCount = len(base.index)\n",
    "WithAddress = len(baseNotNan.index)\n",
    "WithNoAddress = len(baseWithNan.index)\n",
    "WithNoAddressNeighbors = len(baseWithNanAndNei.index)\n",
    "WithNOAddressNoNeighbors = len(baseWithTotalNan.index)\n",
    "\n",
    "#print (\"Total: %s \\n Quantidade com Endereco: %s \\n Quantidade sem Endereco: %s \\n Quantidade sem endereco com Bairro: %s \\n Quantidade sem endereco e sem bairro: %s\" % (TotalCount,WithAddress, WithNoAddress, WithNoAddressNeighbors, WithNOAddressNoNeighbors))\n",
    "#print (\"\\nTotal em Porcentagem: %s \\n Total com Endereco: %s \\n Quantidade sem Endereco: %s \\n Quantidade sem endereco com Bairro: %s \\n Quantidade sem endereco e sem bairro: %s\" % (TotalCount, (WithAddress/TotalCount)*100, (WithNoAddress/TotalCount)*100, (WithNoAddressNeighbors/TotalCount)*100, (WithNOAddressNoNeighbors/TotalCount)*100))\n"
   ]
  },
  {
   "cell_type": "code",
   "execution_count": 28,
   "metadata": {},
   "outputs": [],
   "source": [
    "\n",
    "bairrosFile = open(baseutil+\"Bairros.csv\", \"r\")\n",
    "bairros = pd.read_csv(bairrosFile, sep=\",\", names=['Bairros'], encoding='utf-8')\n",
    "\n",
    "abrvFile = open(baseutil+\"Abrev.csv\", \"r\")\n",
    "abrev = pd.read_csv(abrvFile, sep=\";\", names=['Abreviacoes', 'Referencia'], encoding='utf-8')\n",
    "\n",
    "enderecoLoc = [\"Ind. Endereco\", \"Ind. Bairro\"]\n",
    "address = baseNotNan.loc[:, enderecoLoc]\n"
   ]
  },
  {
   "cell_type": "code",
   "execution_count": 9,
   "metadata": {},
   "outputs": [],
   "source": [
    "#abrvs = dict()\n",
    "\n",
    "#for index, row in address.iterrows():\n",
    "#    if type(row[0]) is str:\n",
    "#        abrv = row[0].split(\",\")\n",
    "        \n",
    "#        for ab in abrv[2:]:\n",
    "#            if ab in abrvs.keys():\n",
    "#                abrvs[ab] += 1\n",
    "#                continue\n",
    "#            abrvs[ab] = 1\n",
    "\n",
    "#abrvs = sorted(abrvs.items(), key=lambda value: value[1], reverse=True)\n",
    "#ad = pd.Series(pd.toDataFrmae(abrvs)).to_frame()\n",
    "#ad = pd.DataFrame(abrvs)\n",
    "#ad.to_csv(basepath+\"Abreviacoes.csv\", sep=';', encoding='utf-8')\n",
    "#print (\"Done!\")\n",
    "    "
   ]
  },
  {
   "cell_type": "code",
   "execution_count": 35,
   "metadata": {},
   "outputs": [
    {
     "name": "stdout",
     "output_type": "stream",
     "text": [
      " R.   0\n",
      " R.   1\n",
      " LG.   2\n",
      " AV. DO   3\n",
      " R.   4\n",
      " AV.   5\n",
      " R.   6\n",
      "   R. DAS 7\n",
      " R.   8\n",
      " AV.   9\n"
     ]
    }
   ],
   "source": [
    "adressByPart = dict()\n",
    "\n",
    "def isAbrev(name):\n",
    "    for index, row in abrev.iterrows():\n",
    "        if type(row[0]) is str:\n",
    "            if name.lower().strip() == row[0].lower().strip():\n",
    "                return True\n",
    "    return False\n",
    "\n",
    "def isNeighbor(name):\n",
    "    for index, row in bairros.iterrows():\n",
    "        if type(row[0]) is str:\n",
    "            if name.lower().strip() == row[0].lower().strip():\n",
    "                return True\n",
    "    return False\n",
    "i = 0\n",
    "for index, row in address.iterrows():\n",
    "    if i == 10:\n",
    "        break\n",
    "    if type(row[0]) is str:\n",
    "        adressByPart = row[0].split(\",\")\n",
    "        for parts in adressByPart:\n",
    "            street = \"\"\n",
    "            neigh = \"\"\n",
    "            abr = \"\"\n",
    "            if isAbrev(parts):\n",
    "                abr = parts\n",
    "            elif isNeighbor(parts):\n",
    "                neigh = parts\n",
    "            else:\n",
    "                street= parts\n",
    "        print((\"(%s) (%s) (%s) (%s)\") % (abr, neigh, street, i))\n",
    "        i+=1\n",
    "\n"
   ]
  },
  {
   "cell_type": "code",
   "execution_count": 11,
   "metadata": {},
   "outputs": [],
   "source": [
    "def getDirections(abr, street, neigh):\n",
    "    adr = abr+\"+\"+street+\"+\"+neigh+\"+Sao+Paulo+SP\"\n",
    "    adr = adr.replace(' ','+')\n",
    "    request = baseurl+\"app_id=\"+secret.app_id+\"&app_code=\"+secret.app_code+\"&searchtext=\"+adr\n",
    "    response = (requests.get(request)).json()\n",
    "    latitude = None\n",
    "    longitude = None\n",
    "\n",
    "    if len(response[\"Response\"][\"View\"]) > 0:\n",
    "        latitude  =  response[\"Response\"][\"View\"][0][\"Result\"][0][\"Location\"][\"NavigationPosition\"][0][\"Latitude\"]\n",
    "        longitude = response[\"Response\"][\"View\"][0][\"Result\"][0][\"Location\"][\"NavigationPosition\"][0][\"Longitude\"]\n",
    "    return latitude, longitude\n"
   ]
  },
  {
   "cell_type": "code",
   "execution_count": null,
   "metadata": {},
   "outputs": [],
   "source": []
  },
  {
   "cell_type": "code",
   "execution_count": 12,
   "metadata": {},
   "outputs": [],
   "source": [
    "file.close()"
   ]
  }
 ],
 "metadata": {
  "kernelspec": {
   "display_name": "Python 3",
   "language": "python",
   "name": "python3"
  },
  "language_info": {
   "codemirror_mode": {
    "name": "ipython",
    "version": 3
   },
   "file_extension": ".py",
   "mimetype": "text/x-python",
   "name": "python",
   "nbconvert_exporter": "python",
   "pygments_lexer": "ipython3",
   "version": "3.7.0"
  }
 },
 "nbformat": 4,
 "nbformat_minor": 2
}
