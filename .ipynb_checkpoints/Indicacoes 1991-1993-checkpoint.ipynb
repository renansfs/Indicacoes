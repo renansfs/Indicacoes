{
 "cells": [
  {
   "cell_type": "code",
   "execution_count": 55,
   "metadata": {},
   "outputs": [],
   "source": [
    "#!/usr/bin/env python\n",
    "# -*- coding: utf-8 -*-\n",
    "import os\n",
    "import numpy as np\n",
    "import pandas as pd\n",
    "import matplotlib.pyplot as plt\n",
    "\n",
    "basepath= \"./1991-1993/\""
   ]
  },
  {
   "cell_type": "code",
   "execution_count": 56,
   "metadata": {},
   "outputs": [
    {
     "name": "stderr",
     "output_type": "stream",
     "text": [
      "c:\\users\\renan\\documents\\lab\\indicacoes\\env\\lib\\site-packages\\pandas\\io\\parsers.py:678: UserWarning: Duplicate names specified. This will raise an error in the future.\n",
      "  return _read(filepath_or_buffer, kwds)\n"
     ]
    }
   ],
   "source": [
    "file = open(basepath+\"1991-1993.csv\", \"r\")\n",
    "\n",
    "base = pd.read_csv(file, sep=\";\", names=['Sigla da Matéria Legislativa', 'Ano da propositura', 'Número da propositura', 'Ano da propositura', 'Ementa (texto em linha única)','Ind. Destinatário', 'Ind. Motivo', 'Ind. Endereco' , 'Ind. Adm.Regional', 'Ind. Bairro' , 'Nome', 'Partido (último)'], encoding='utf-8')"
   ]
  },
  {
   "cell_type": "code",
   "execution_count": 57,
   "metadata": {},
   "outputs": [],
   "source": [
    "baseNotNan = base[base[\"Ind. Endereco\"].notnull()]\n",
    "baseNotNan.to_csv(basepath+\"91-93withNotNan.csv\", sep=';', encoding='utf-8')\n"
   ]
  },
  {
   "cell_type": "code",
   "execution_count": 58,
   "metadata": {},
   "outputs": [],
   "source": [
    "baseWithNan = base[base[\"Ind. Endereco\"].isnull()]\n",
    "baseWithNan.to_csv(basepath+\"91-93withNan.csv\", sep=';', encoding='utf-8')"
   ]
  },
  {
   "cell_type": "code",
   "execution_count": 59,
   "metadata": {},
   "outputs": [],
   "source": [
    "baseWithNanAndNei = baseWithNan[baseWithNan[\"Ind. Bairro\"].notnull()]\n",
    "baseWithNanAndNei.to_csv(basepath+\"91-93withNanNei.csv\", sep=';', encoding='utf-8')"
   ]
  },
  {
   "cell_type": "code",
   "execution_count": 60,
   "metadata": {},
   "outputs": [],
   "source": [
    "baseWithTotalNan = baseWithNan[baseWithNan[\"Ind. Bairro\"].isnull()]\n",
    "baseWithTotalNan.to_csv(basepath+\"91-93withTotalNan.csv\", sep=';', encoding='utf-8')"
   ]
  },
  {
   "cell_type": "code",
   "execution_count": 72,
   "metadata": {},
   "outputs": [
    {
     "name": "stdout",
     "output_type": "stream",
     "text": [
      "Total: 7731 \n",
      " Quantidade com Endereco: 7062 \n",
      " Quantidade sem Endereco: 669 \n",
      " Quantidade sem endereco com Bairro: 382 \n",
      " Quantidade sem endereco e sem bairro: 287\n",
      "\n",
      "Total em Porcentagem: 7731 \n",
      " Total com Endereco: 91.3465269693442 \n",
      " Quantidade sem Endereco: 8.653473030655801 \n",
      " Quantidade sem endereco com Bairro: 4.9411460354417285 \n",
      " Quantidade sem endereco e sem bairro: 3.7123269952140734\n"
     ]
    }
   ],
   "source": [
    "TotalCount = len(base.index)\n",
    "WithAddress = len(baseNotNan.index)\n",
    "WithNoAddress = len(baseWithNan.index)\n",
    "WithNoAddressNeighbors = len(baseWithNanAndNei.index)\n",
    "WithNOAddressNoNeighbors = len(baseWithTotalNan.index)\n",
    "\n",
    "print (\"Total: %s \\n Quantidade com Endereco: %s \\n Quantidade sem Endereco: %s \\n Quantidade sem endereco com Bairro: %s \\n Quantidade sem endereco e sem bairro: %s\" % (TotalCount,WithAddress, WithNoAddress, WithNoAddressNeighbors, WithNOAddressNoNeighbors))\n",
    "print (\"\\nTotal em Porcentagem: %s \\n Total com Endereco: %s \\n Quantidade sem Endereco: %s \\n Quantidade sem endereco com Bairro: %s \\n Quantidade sem endereco e sem bairro: %s\" % (TotalCount, (WithAddress/TotalCount)*100, (WithNoAddress/TotalCount)*100, (WithNoAddressNeighbors/TotalCount)*100, (WithNOAddressNoNeighbors/TotalCount)*100))\n"
   ]
  },
  {
   "cell_type": "code",
   "execution_count": 62,
   "metadata": {},
   "outputs": [
    {
     "name": "stdout",
     "output_type": "stream",
     "text": [
      "                                          Ind. Endereco  \\\n",
      "0                                                   NaN   \n",
      "1                                                   NaN   \n",
      "2                                                   NaN   \n",
      "3                                                   NaN   \n",
      "4                                     PIRES DA MOTA, R.   \n",
      "5                                    FONSECA GALVAO, R.   \n",
      "6                               RAUL CARDOSO, SEN., LG.   \n",
      "7                      SANTA IFIGENIA, R.ESTADO, AV. DO   \n",
      "8                                          MESQUITA, R.   \n",
      "9                                                   NaN   \n",
      "10                                                  NaN   \n",
      "11                    ELISABETH DE ROBIANO, CDSSA., AV.   \n",
      "12                                                  NaN   \n",
      "13                                         RELIQUIA, R.   \n",
      "14                                    OITICICAS, R. DAS   \n",
      "15                                  CAROLINA SOARES, R.   \n",
      "16                                GIOVANNI GRONCHI, AV.   \n",
      "17                                   CAMARGO E LEME, R.   \n",
      "18                                          MERUOCA, R.   \n",
      "19                                            LITIO, R.   \n",
      "20                       OLIMPIO DA SILVEIRA, GEN., AV.   \n",
      "21                                           SIRIUS, R.   \n",
      "22    CARLOS FIRMO DOS ANJOS, R.BENEDITO DE SOUSA BO...   \n",
      "23                                    ENGENHO NOVO, AV.   \n",
      "24                            EMPG OTAVIO PEREIRA LOPES   \n",
      "25                            EMPG OTAVIO PEREIRA LOPES   \n",
      "26     EMPG OTAVIO PEREIRA LOPESJOSE DE MOURA, VER., R.   \n",
      "27     EMPG OTAVIO PEREIRA LOPESJOSE DE MOURA, VER., R.   \n",
      "28                            EMPG OTAVIO PEREIRA LOPES   \n",
      "29    EMPG OTAVIO PEREIRA LOPESPAULO LINCOLN DO VALE...   \n",
      "...                                                 ...   \n",
      "7701                             JOAO GOMES BATISTA, R.   \n",
      "7702                             ALMEIDA NOBRE, DR., R.   \n",
      "7703                                   TRES RANCHOS, R.   \n",
      "7704                                       AQUARELA, R.   \n",
      "7705                        JOSE DE ARAUJO RIBEIRO, AV.   \n",
      "7706                                        FLORIZA, R.   \n",
      "7707                        JOAQUIM AFONSO DE SOUSA, R.   \n",
      "7708                          GERVASIO LEITE REBELO, R.   \n",
      "7709                          GERVASIO LEITE REBELO, R.   \n",
      "7710                                                NaN   \n",
      "7711                                CIRINO DE ABREU, R.   \n",
      "7712                   VILA EMA, AV.DOMINGOS AFONSO, R.   \n",
      "7713                                                NaN   \n",
      "7714                                 INSPETOR DE ALUNOS   \n",
      "7715                              MANUEL DA MATA SA, R.   \n",
      "7716                            BELA VISTA DE MINAS, R.   \n",
      "7717                              AIDA GOMES TOLEDO, R.   \n",
      "7718                     VALFRIDO DE CARVALHO, CEL., R.   \n",
      "7719                             SILVANO DE ALMEIDA, R.   \n",
      "7720                         ARI CARNEIRO FERNANDES, R.   \n",
      "7721                                 RIO DOS CEDROS, R.   \n",
      "7722                          DARIO VILARES BARBOSA, R.   \n",
      "7723                             APARECIDA DE MINAS, R.   \n",
      "7724                                 RIO DOS CEDROS, R.   \n",
      "7725                                  ALFREDO LUCIO, R.   \n",
      "7726                     VALFRIDO DE CARVALHO, CEL., R.   \n",
      "7727                     VALFRIDO DE CARVALHO, CEL., R.   \n",
      "7728                                  CHAPEU DE SOL, R.   \n",
      "7729                                        GRUMIXA, R.   \n",
      "7730                                      CARIACICA, R.   \n",
      "\n",
      "                    Ind. Bairro  \n",
      "0                           NaN  \n",
      "1                           NaN  \n",
      "2                           NaN  \n",
      "3                           NaN  \n",
      "4                           NaN  \n",
      "5                           NaN  \n",
      "6               VILA CLEMENTINO  \n",
      "7                           NaN  \n",
      "8                           NaN  \n",
      "9                           NaN  \n",
      "10                          NaN  \n",
      "11                          NaN  \n",
      "12    VILA BUENOS AIRES (AR-PE)  \n",
      "13       JARDIM DAS LARANJEIRAS  \n",
      "14                          NaN  \n",
      "15               LIMAO (BAIRRO)  \n",
      "16                 VILA ANDRADE  \n",
      "17     VILA SAO GERALDO (AR-IQ)  \n",
      "18             JARDIM DA GLORIA  \n",
      "19              PARQUE DA MOOCA  \n",
      "20                          NaN  \n",
      "21    CIDADE SATELITE SANTA BAR  \n",
      "22                 JARDIM ROBRU  \n",
      "23                 JARDIM TIETE  \n",
      "24                          NaN  \n",
      "25                          NaN  \n",
      "26                          NaN  \n",
      "27                          NaN  \n",
      "28                          NaN  \n",
      "29                          NaN  \n",
      "...                         ...  \n",
      "7701             JARDIM CIDALIA  \n",
      "7702                        NaN  \n",
      "7703  JARDIM SANTA CRUZ (AR-FO)  \n",
      "7704     VILA NOVA CACHOEIRINHA  \n",
      "7705               VILA ANTONIO  \n",
      "7706                  VILA SARA  \n",
      "7707                        NaN  \n",
      "7708  JARDIM SANTA CRUZ (AR-FO)  \n",
      "7709  JARDIM SANTA CRUZ (AR-FO)  \n",
      "7710                        NaN  \n",
      "7711                        NaN  \n",
      "7712           VILA SANTA CLARA  \n",
      "7713                        NaN  \n",
      "7714                        NaN  \n",
      "7715  JARDIM NOSSA SENHORA DO C  \n",
      "7716        VILA HELENA (AR-MP)  \n",
      "7717  JARDIM NOSSA SENHORA DA C  \n",
      "7718                 VILA ROQUE  \n",
      "7719      VILA SIQUEIRA (LIMAO)  \n",
      "7720         JARDIM DOS FRANCOS  \n",
      "7721              VILA DIONISIA  \n",
      "7722                JARDIM PERI  \n",
      "7723  JARDIM SANTA CRUZ (AR-FO)  \n",
      "7724  JARDIM SANTA CRUZ (AR-FO)  \n",
      "7725             VILA TERESINHA  \n",
      "7726                 VILA ROQUE  \n",
      "7727  JARDIM NOSSA SENHORA DA C  \n",
      "7728                JARDIM MAIA  \n",
      "7729           JARDIM DAMASCENO  \n",
      "7730  JARDIM SANTA CRUZ (AR-FO)  \n",
      "\n",
      "[7731 rows x 2 columns]\n"
     ]
    }
   ],
   "source": [
    "enderecoLoc = [\"Ind. Endereco\", \"Ind. Bairro\"]\n",
    "address = baseNotNan.loc[:, enderecoLoc]\n",
    "print (address)\n"
   ]
  },
  {
   "cell_type": "code",
   "execution_count": 67,
   "metadata": {},
   "outputs": [
    {
     "name": "stdout",
     "output_type": "stream",
     "text": [
      "Done!\n"
     ]
    }
   ],
   "source": [
    "abrvs = dict()\n",
    "\n",
    "for index, row in address.iterrows():\n",
    "    if type(row[0]) is str:\n",
    "        abrv = row[0].split(\",\")\n",
    "        \n",
    "        for ab in abrv[2:]:\n",
    "            if ab in abrvs.keys():\n",
    "                abrvs[ab] += 1\n",
    "                continue\n",
    "            abrvs[ab] = 1\n",
    "\n",
    "abrvs = sorted(abrvs.items(), key=lambda value: value[1], reverse=True)\n",
    "#ad = pd.Series(pd.toDataFrmae(abrvs)).to_frame()\n",
    "ad = pd.DataFrame(abrvs)\n",
    "ad.to_csv(basepath+\"Abreviacoes.csv\", sep=';', encoding='utf-8')\n",
    "print (\"Done!\")\n",
    "    "
   ]
  },
  {
   "cell_type": "code",
   "execution_count": null,
   "metadata": {},
   "outputs": [],
   "source": [
    "file.close()"
   ]
  },
  {
   "cell_type": "code",
   "execution_count": null,
   "metadata": {},
   "outputs": [],
   "source": []
  }
 ],
 "metadata": {
  "kernelspec": {
   "display_name": "Python 3",
   "language": "python",
   "name": "python3"
  },
  "language_info": {
   "codemirror_mode": {
    "name": "ipython",
    "version": 3
   },
   "file_extension": ".py",
   "mimetype": "text/x-python",
   "name": "python",
   "nbconvert_exporter": "python",
   "pygments_lexer": "ipython3",
   "version": "3.7.0"
  }
 },
 "nbformat": 4,
 "nbformat_minor": 2
}
